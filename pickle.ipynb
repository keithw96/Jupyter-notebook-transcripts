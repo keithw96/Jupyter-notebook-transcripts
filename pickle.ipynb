{
 "cells": [
  {
   "cell_type": "code",
   "execution_count": null,
   "metadata": {
    "collapsed": true
   },
   "outputs": [],
   "source": [
    "import pickle\n",
    "from itertools import islice\n",
    "\n",
    "##Loads back from pickle\n",
    "leaderboard = pickle.load( open( \"leaderboard.p\", \"rb\" ) )\n",
    "##Adds a new key & value to the dictionary ( key -> score: name <- Value)\n",
    "leaderboard[score] = name\n",
    "##Writes to pickle file (overrites while at it)\n",
    "pickle.dump(leaderboard, open( \"leaderboard.p\", \"wb\" ) )\n",
    "\n",
    "##Loads back from pickle\n",
    "leaderboard = pickle.load( open( \"leaderboard.p\", \"rb\" ) )\n",
    "##Sorts by key value\n",
    "sorted_scores = {(k, leaderboard[k]) for k in sorted(leaderboard, key=leaderboard.get, reverse=True)}\n",
    "##Gives X first in list. (in this example, X = 5)\n",
    "top_ten = list(islice(sorted_scores, 5))\n",
    "##Prints the key and value (0 = key, 1 = value)\n",
    "for row in top_ten:\n",
    "    print(row[1], row[0])"
   ]
  }
 ],
 "metadata": {
  "kernelspec": {
   "display_name": "Python 3",
   "language": "python",
   "name": "python3"
  },
  "language_info": {
   "codemirror_mode": {
    "name": "ipython",
    "version": 3
   },
   "file_extension": ".py",
   "mimetype": "text/x-python",
   "name": "python",
   "nbconvert_exporter": "python",
   "pygments_lexer": "ipython3",
   "version": "3.6.3"
  }
 },
 "nbformat": 4,
 "nbformat_minor": 2
}
